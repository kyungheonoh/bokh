{
 "cells": [
  {
   "cell_type": "code",
   "execution_count": null,
   "id": "a288948d",
   "metadata": {},
   "outputs": [],
   "source": [
    "import json\n",
    "\n",
    "config_data = {\n",
    "    \"telegram_token\": \"6019854993:AAHTbTZu8g2RKQQyDXZD9bzsERo27y6ya_Y\",\n",
    "    \"telegram_chat_id\": \"6580852850\",\n",
    "    \"chrome_driver_path\": \"D:\\\\chromedriver\\\\chromedriver.exe\"\n",
    "}\n",
    "\n",
    "with open('config.json', 'w') as f:\n",
    "    json.dump(config_data, f, indent=4)"
   ]
  }
 ],
 "metadata": {
  "kernelspec": {
   "display_name": "Python 3 (ipykernel)",
   "language": "python",
   "name": "python3"
  },
  "language_info": {
   "codemirror_mode": {
    "name": "ipython",
    "version": 3
   },
   "file_extension": ".py",
   "mimetype": "text/x-python",
   "name": "python",
   "nbconvert_exporter": "python",
   "pygments_lexer": "ipython3",
   "version": "3.9.13"
  }
 },
 "nbformat": 4,
 "nbformat_minor": 5
}
